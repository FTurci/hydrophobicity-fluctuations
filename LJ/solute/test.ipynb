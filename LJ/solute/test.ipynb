{
 "cells": [
  {
   "cell_type": "code",
   "execution_count": 51,
   "metadata": {},
   "outputs": [],
   "source": [
    "import numpy as np\n",
    "import matplotlib.pyplot as plt"
   ]
  },
  {
   "cell_type": "code",
   "execution_count": 52,
   "metadata": {},
   "outputs": [
    {
     "name": "stdout",
     "output_type": "stream",
     "text": [
      "(1041420,)\n"
     ]
    }
   ],
   "source": [
    "\n",
    "alpha = 10.0\n",
    "folder = f\"tj-alpha{alpha}\"\n",
    "_r,_n = np.loadtxt(f\"{folder}/profiles.txt\", unpack = True)\n",
    "\n",
    "print(_n.shape)"
   ]
  },
  {
   "cell_type": "code",
   "execution_count": 53,
   "metadata": {},
   "outputs": [
    {
     "name": "stdout",
     "output_type": "stream",
     "text": [
      "csv shape (19097, 5)\n"
     ]
    }
   ],
   "source": [
    "csv = np.loadtxt(f\"{folder}/output.csv\",skiprows=1,delimiter=',')\n",
    "# csv = np.unique(csv, axis=0)\n",
    "# csv.shape\n",
    "csv=csv\n",
    "print(\"csv shape\", csv.shape)"
   ]
  },
  {
   "cell_type": "code",
   "execution_count": 54,
   "metadata": {},
   "outputs": [
    {
     "name": "stdout",
     "output_type": "stream",
     "text": [
      "original shape (17357, 60)\n",
      "final shape (17357, 60)\n",
      "csv shape (19097, 5)\n"
     ]
    }
   ],
   "source": [
    "nbins=60\n",
    "ns = _n.reshape((-1, nbins))\n",
    "rs = _r.reshape((-1, nbins))\n",
    "# ns.shape\n",
    "\n",
    "# skip = 0\n",
    "print(\"original shape\", ns.shape)\n",
    "ns = ns[:csv.shape[0],:]\n",
    "vol = csv[:,-1]\n",
    "\n",
    "print(\"final shape\", ns.shape)\n",
    "print(\"csv shape\", csv.shape)"
   ]
  },
  {
   "cell_type": "code",
   "execution_count": 55,
   "metadata": {},
   "outputs": [],
   "source": [
    "r = rs.mean(axis=0)\n",
    "rho_avg = ns.mean(axis=0)"
   ]
  },
  {
   "cell_type": "code",
   "execution_count": 56,
   "metadata": {},
   "outputs": [
    {
     "data": {
      "text/plain": [
       "[<matplotlib.lines.Line2D at 0x155401a94910>]"
      ]
     },
     "execution_count": 56,
     "metadata": {},
     "output_type": "execute_result"
    },
    {
     "data": {
      "image/png": "[encoded data removed]",
      "text/plain": [
       "<Figure size 330x220 with 1 Axes>"
      ]
     },
     "metadata": {},
     "output_type": "display_data"
    }
   ],
   "source": [
    "plt.plot(r,rho_avg,'.:')\n"
   ]
  },
  {
   "cell_type": "code",
   "execution_count": 57,
   "metadata": {},
   "outputs": [],
   "source": [
    "# calculate fluctuation from the covariance.\n",
    "\n",
    "def compute_chi(rhos,volumes, axis=0,stride=1,verbose=False):\n",
    "    if verbose: print(\"The number of indeendent samples is\", volumes[::stride].shape[0])\n",
    "    avg_v = volumes[::stride].mean()\n",
    "    avg_rho = rhos[::stride].mean(axis=axis)\n",
    "    avg_rho_v = np.mean(volumes[::stride,np.newaxis]*rhos[::stride], axis=axis)\n",
    "    return -(avg_rho_v-avg_v*avg_rho)\n"
   ]
  },
  {
   "cell_type": "code",
   "execution_count": 58,
   "metadata": {},
   "outputs": [
    {
     "name": "stdout",
     "output_type": "stream",
     "text": [
      "The number of indeendent samples is 19097\n"
     ]
    },
    {
     "ename": "ValueError",
     "evalue": "operands could not be broadcast together with shapes (19097,1) (17357,60) ",
     "output_type": "error",
     "traceback": [
      "\u001b[0;31m---------------------------------------------------------------------------\u001b[0m",
      "\u001b[0;31mValueError\u001b[0m                                Traceback (most recent call last)",
      "Cell \u001b[0;32mIn[58], line 8\u001b[0m\n\u001b[1;32m      3\u001b[0m ns[:,\u001b[38;5;241m0\u001b[39m]\u001b[38;5;241m=\u001b[39m\u001b[38;5;241m0\u001b[39m\n\u001b[1;32m      6\u001b[0m ax[\u001b[38;5;241m0\u001b[39m]\u001b[38;5;241m.\u001b[39mplot(r,rho_avg,\u001b[38;5;124m'\u001b[39m\u001b[38;5;124m-ok\u001b[39m\u001b[38;5;124m'\u001b[39m, ms\u001b[38;5;241m=\u001b[39m\u001b[38;5;241m4\u001b[39m, lw\u001b[38;5;241m=\u001b[39m\u001b[38;5;241m0.5\u001b[39m, mfc\u001b[38;5;241m=\u001b[39m\u001b[38;5;124m'\u001b[39m\u001b[38;5;124mNone\u001b[39m\u001b[38;5;124m'\u001b[39m)\n\u001b[0;32m----> 8\u001b[0m chi \u001b[38;5;241m=\u001b[39m \u001b[43mcompute_chi\u001b[49m\u001b[43m(\u001b[49m\u001b[43mns\u001b[49m\u001b[43m,\u001b[49m\u001b[43mvol\u001b[49m\u001b[43m,\u001b[49m\u001b[43mstride\u001b[49m\u001b[38;5;241;43m=\u001b[39;49m\u001b[38;5;241;43m1\u001b[39;49m\u001b[43m,\u001b[49m\u001b[43m \u001b[49m\u001b[43mverbose\u001b[49m\u001b[38;5;241;43m=\u001b[39;49m\u001b[38;5;28;43;01mTrue\u001b[39;49;00m\u001b[43m)\u001b[49m\n\u001b[1;32m      9\u001b[0m ax[\u001b[38;5;241m1\u001b[39m]\u001b[38;5;241m.\u001b[39mplot(r,chi,\u001b[38;5;124m'\u001b[39m\u001b[38;5;124m-ok\u001b[39m\u001b[38;5;124m'\u001b[39m, ms\u001b[38;5;241m=\u001b[39m\u001b[38;5;241m4\u001b[39m, lw\u001b[38;5;241m=\u001b[39m\u001b[38;5;241m0.5\u001b[39m, mfc\u001b[38;5;241m=\u001b[39m\u001b[38;5;124m'\u001b[39m\u001b[38;5;124mNone\u001b[39m\u001b[38;5;124m'\u001b[39m)\n\u001b[1;32m     10\u001b[0m T \u001b[38;5;241m=\u001b[39m \u001b[38;5;241m1.1476\u001b[39m\n",
      "Cell \u001b[0;32mIn[57], line 7\u001b[0m, in \u001b[0;36mcompute_chi\u001b[0;34m(rhos, volumes, axis, stride, verbose)\u001b[0m\n\u001b[1;32m      5\u001b[0m avg_v \u001b[38;5;241m=\u001b[39m volumes[::stride]\u001b[38;5;241m.\u001b[39mmean()\n\u001b[1;32m      6\u001b[0m avg_rho \u001b[38;5;241m=\u001b[39m rhos[::stride]\u001b[38;5;241m.\u001b[39mmean(axis\u001b[38;5;241m=\u001b[39maxis)\n\u001b[0;32m----> 7\u001b[0m avg_rho_v \u001b[38;5;241m=\u001b[39m np\u001b[38;5;241m.\u001b[39mmean(\u001b[43mvolumes\u001b[49m\u001b[43m[\u001b[49m\u001b[43m:\u001b[49m\u001b[43m:\u001b[49m\u001b[43mstride\u001b[49m\u001b[43m,\u001b[49m\u001b[43mnp\u001b[49m\u001b[38;5;241;43m.\u001b[39;49m\u001b[43mnewaxis\u001b[49m\u001b[43m]\u001b[49m\u001b[38;5;241;43m*\u001b[39;49m\u001b[43mrhos\u001b[49m\u001b[43m[\u001b[49m\u001b[43m:\u001b[49m\u001b[43m:\u001b[49m\u001b[43mstride\u001b[49m\u001b[43m]\u001b[49m, axis\u001b[38;5;241m=\u001b[39maxis)\n\u001b[1;32m      8\u001b[0m \u001b[38;5;28;01mreturn\u001b[39;00m \u001b[38;5;241m-\u001b[39m(avg_rho_v\u001b[38;5;241m-\u001b[39mavg_v\u001b[38;5;241m*\u001b[39mavg_rho)\n",
      "\u001b[0;31mValueError\u001b[0m: operands could not be broadcast together with shapes (19097,1) (17357,60) "
     ]
    },
    {
     "data": {
      "image/png": "[encoded data removed]",
      "text/plain": [
       "<Figure size 400x500 with 2 Axes>"
      ]
     },
     "metadata": {},
     "output_type": "display_data"
    }
   ],
   "source": [
    "fix,ax = plt.subplots(2,1,figsize=(4,5),sharex=True)\n",
    "\n",
    "ns[:,0]=0\n",
    "\n",
    "\n",
    "ax[0].plot(r,rho_avg,'-ok', ms=4, lw=0.5, mfc='None')\n",
    "\n",
    "chi = compute_chi(ns,vol,stride=1, verbose=True)\n",
    "ax[1].plot(r,chi,'-ok', ms=4, lw=0.5, mfc='None')\n",
    "T = 1.1476\n",
    "kappa_b = 1.5\n",
    "ax[1].plot(r, np.ones_like(r)*kappa_b*rho_avg[-1]*T,'-',color='tab:orange')\n",
    "ax[1].text(0.8,1.2,r\"$\\kappa_b \\rho_b T$\", color='tab:orange')\n",
    "ax[1].set_xlabel(\"$r/\\sigma$\")\n",
    "ax[1].set_ylabel(r\"$\\langle\\rho(r)\\rangle\\langle V\\rangle-\\langle \\rho(r) V\\rangle $\")\n",
    "ax[0].set_ylabel(r\"$\\langle\\rho(r)\\rangle $\")\n",
    "plt.savefig(f\"{folder}/plot.profiles.pdf\")"
   ]
  },
  {
   "cell_type": "code",
   "execution_count": null,
   "metadata": {},
   "outputs": [],
   "source": []
  },
  {
   "cell_type": "code",
   "execution_count": null,
   "metadata": {},
   "outputs": [],
   "source": []
  }
 ],
 "metadata": {
  "kernelspec": {
   "display_name": "Python 3",
   "language": "python",
   "name": "python3"
  },
  "language_info": {
   "codemirror_mode": {
    "name": "ipython",
    "version": 3
   },
   "file_extension": ".py",
   "mimetype": "text/x-python",
   "name": "python",
   "nbconvert_exporter": "python",
   "pygments_lexer": "ipython3",
   "version": "3.9.10"
  }
 },
 "nbformat": 4,
 "nbformat_minor": 2
}
