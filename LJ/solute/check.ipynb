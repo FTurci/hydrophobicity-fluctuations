{
 "cells": [
  {
   "cell_type": "code",
   "execution_count": 131,
   "metadata": {},
   "outputs": [],
   "source": [
    "import numpy as np\n",
    "import matplotlib.pyplot as plt"
   ]
  },
  {
   "cell_type": "code",
   "execution_count": 132,
   "metadata": {},
   "outputs": [
    {
     "name": "stdout",
     "output_type": "stream",
     "text": [
      "[1.48750e+01 2.22000e+02 1.83334e+06 2.22000e+02 8.61443e-01]\n"
     ]
    },
    {
     "name": "stderr",
     "output_type": "stream",
     "text": [
      "/tmp/ipykernel_3200406/2388042433.py:1: ConversionWarning: Some errors were detected !\n",
      "    Line #1 (got 3 columns instead of 5)\n",
      "    Line #62 (got 3 columns instead of 5)\n",
      "    Line #123 (got 3 columns instead of 5)\n",
      "    Line #184 (got 3 columns instead of 5)\n",
      "    Line #245 (got 3 columns instead of 5)\n",
      "    Line #306 (got 3 columns instead of 5)\n",
      "    Line #367 (got 3 columns instead of 5)\n",
      "    Line #428 (got 3 columns instead of 5)\n",
      "    Line #489 (got 3 columns instead of 5)\n",
      "    Line #550 (got 3 columns instead of 5)\n",
      "    Line #611 (got 3 columns instead of 5)\n",
      "    Line #672 (got 3 columns instead of 5)\n",
      "    Line #733 (got 3 columns instead of 5)\n",
      "    Line #794 (got 3 columns instead of 5)\n",
      "    Line #855 (got 3 columns instead of 5)\n",
      "    Line #916 (got 3 columns instead of 5)\n",
      "    Line #977 (got 3 columns instead of 5)\n",
      "    Line #1038 (got 3 columns instead of 5)\n",
      "    Line #1099 (got 3 columns instead of 5)\n",
      "    Line #1160 (got 3 columns instead of 5)\n",
      "    Line #1221 (got 3 columns instead of 5)\n",
      "    Line #1282 (got 3 columns instead of 5)\n",
      "    Line #1343 (got 3 columns instead of 5)\n",
      "    Line #1404 (got 3 columns instead of 5)\n",
      "    Line #1465 (got 3 columns instead of 5)\n",
      "    Line #1526 (got 3 columns instead of 5)\n",
      "    Line #1587 (got 3 columns instead of 5)\n",
      "    Line #1648 (got 3 columns instead of 5)\n",
      "    Line #1709 (got 3 columns instead of 5)\n",
      "    Line #1770 (got 3 columns instead of 5)\n",
      "    Line #1831 (got 3 columns instead of 5)\n",
      "    Line #1892 (got 3 columns instead of 5)\n",
      "    Line #1953 (got 3 columns instead of 5)\n",
      "    Line #2014 (got 3 columns instead of 5)\n",
      "    Line #2075 (got 3 columns instead of 5)\n",
      "    Line #2136 (got 3 columns instead of 5)\n",
      "    Line #2197 (got 3 columns instead of 5)\n",
      "    Line #2258 (got 3 columns instead of 5)\n",
      "    Line #2319 (got 3 columns instead of 5)\n",
      "    Line #2380 (got 3 columns instead of 5)\n",
      "    Line #2441 (got 3 columns instead of 5)\n",
      "    Line #2502 (got 3 columns instead of 5)\n",
      "    Line #2563 (got 3 columns instead of 5)\n",
      "    Line #2624 (got 3 columns instead of 5)\n",
      "    Line #2685 (got 3 columns instead of 5)\n",
      "    Line #2746 (got 3 columns instead of 5)\n",
      "    Line #2807 (got 3 columns instead of 5)\n",
      "    Line #2868 (got 3 columns instead of 5)\n",
      "    Line #2929 (got 3 columns instead of 5)\n",
      "    Line #2990 (got 3 columns instead of 5)\n",
      "    Line #3051 (got 3 columns instead of 5)\n",
      "    Line #3112 (got 3 columns instead of 5)\n",
      "    Line #3173 (got 3 columns instead of 5)\n",
      "    Line #3234 (got 3 columns instead of 5)\n",
      "    Line #3295 (got 3 columns instead of 5)\n",
      "    Line #3356 (got 3 columns instead of 5)\n",
      "    Line #3417 (got 3 columns instead of 5)\n",
      "    Line #3478 (got 3 columns instead of 5)\n",
      "    Line #3539 (got 3 columns instead of 5)\n",
      "    Line #3600 (got 3 columns instead of 5)\n",
      "    Line #3661 (got 3 columns instead of 5)\n",
      "    Line #3722 (got 3 columns instead of 5)\n",
      "    Line #3783 (got 3 columns instead of 5)\n",
      "    Line #3844 (got 3 columns instead of 5)\n",
      "    Line #3905 (got 3 columns instead of 5)\n",
      "    Line #3966 (got 3 columns instead of 5)\n",
      "    Line #4027 (got 3 columns instead of 5)\n",
      "    Line #4088 (got 3 columns instead of 5)\n",
      "    Line #4149 (got 3 columns instead of 5)\n",
      "    Line #4210 (got 3 columns instead of 5)\n",
      "    Line #4271 (got 3 columns instead of 5)\n",
      "    Line #4332 (got 3 columns instead of 5)\n",
      "    Line #4393 (got 3 columns instead of 5)\n",
      "    Line #4454 (got 3 columns instead of 5)\n",
      "    Line #4515 (got 3 columns instead of 5)\n",
      "    Line #4576 (got 3 columns instead of 5)\n",
      "    Line #4637 (got 3 columns instead of 5)\n",
      "    Line #4698 (got 3 columns instead of 5)\n",
      "    Line #4759 (got 3 columns instead of 5)\n",
      "    Line #4820 (got 3 columns instead of 5)\n",
      "    Line #4881 (got 3 columns instead of 5)\n",
      "    Line #4942 (got 3 columns instead of 5)\n",
      "    Line #5003 (got 3 columns instead of 5)\n",
      "    Line #5064 (got 3 columns instead of 5)\n",
      "    Line #5125 (got 3 columns instead of 5)\n",
      "    Line #5186 (got 3 columns instead of 5)\n",
      "    Line #5247 (got 3 columns instead of 5)\n",
      "    Line #5308 (got 3 columns instead of 5)\n",
      "    Line #5369 (got 3 columns instead of 5)\n",
      "    Line #5430 (got 3 columns instead of 5)\n",
      "    Line #5491 (got 3 columns instead of 5)\n",
      "    Line #5552 (got 3 columns instead of 5)\n",
      "    Line #5613 (got 3 columns instead of 5)\n",
      "    Line #5674 (got 3 columns instead of 5)\n",
      "    Line #5735 (got 3 columns instead of 5)\n",
      "    Line #5796 (got 3 columns instead of 5)\n",
      "    Line #5857 (got 3 columns instead of 5)\n",
      "    Line #5918 (got 3 columns instead of 5)\n",
      "    Line #5979 (got 3 columns instead of 5)\n",
      "    Line #6040 (got 3 columns instead of 5)\n",
      "    Line #6101 (got 3 columns instead of 5)\n",
      "    Line #6162 (got 3 columns instead of 5)\n",
      "    Line #6223 (got 3 columns instead of 5)\n",
      "    Line #6284 (got 3 columns instead of 5)\n",
      "    Line #6345 (got 3 columns instead of 5)\n",
      "    Line #6406 (got 3 columns instead of 5)\n",
      "    Line #6467 (got 3 columns instead of 5)\n",
      "    Line #6528 (got 3 columns instead of 5)\n",
      "    Line #6589 (got 3 columns instead of 5)\n",
      "    Line #6650 (got 3 columns instead of 5)\n",
      "    Line #6711 (got 3 columns instead of 5)\n",
      "    Line #6772 (got 3 columns instead of 5)\n",
      "    Line #6833 (got 3 columns instead of 5)\n",
      "    Line #6894 (got 3 columns instead of 5)\n",
      "    Line #6955 (got 3 columns instead of 5)\n",
      "    Line #7016 (got 3 columns instead of 5)\n",
      "    Line #7077 (got 3 columns instead of 5)\n",
      "    Line #7138 (got 3 columns instead of 5)\n",
      "    Line #7199 (got 3 columns instead of 5)\n",
      "    Line #7260 (got 3 columns instead of 5)\n",
      "    Line #7321 (got 3 columns instead of 5)\n",
      "    Line #7382 (got 3 columns instead of 5)\n",
      "    Line #7443 (got 3 columns instead of 5)\n",
      "    Line #7504 (got 3 columns instead of 5)\n",
      "    Line #7565 (got 3 columns instead of 5)\n",
      "    Line #7626 (got 3 columns instead of 5)\n",
      "    Line #7687 (got 3 columns instead of 5)\n",
      "    Line #7748 (got 3 columns instead of 5)\n",
      "    Line #7809 (got 3 columns instead of 5)\n",
      "    Line #7870 (got 3 columns instead of 5)\n",
      "    Line #7931 (got 3 columns instead of 5)\n",
      "    Line #7992 (got 3 columns instead of 5)\n",
      "    Line #8053 (got 3 columns instead of 5)\n",
      "    Line #8114 (got 3 columns instead of 5)\n",
      "    Line #8175 (got 3 columns instead of 5)\n",
      "    Line #8236 (got 3 columns instead of 5)\n",
      "    Line #8297 (got 3 columns instead of 5)\n",
      "    Line #8358 (got 3 columns instead of 5)\n",
      "    Line #8419 (got 3 columns instead of 5)\n",
      "    Line #8480 (got 3 columns instead of 5)\n",
      "    Line #8541 (got 3 columns instead of 5)\n",
      "    Line #8602 (got 3 columns instead of 5)\n",
      "    Line #8663 (got 3 columns instead of 5)\n",
      "    Line #8724 (got 3 columns instead of 5)\n",
      "    Line #8785 (got 3 columns instead of 5)\n",
      "    Line #8846 (got 3 columns instead of 5)\n",
      "    Line #8907 (got 3 columns instead of 5)\n",
      "    Line #8968 (got 3 columns instead of 5)\n",
      "    Line #9029 (got 3 columns instead of 5)\n",
      "    Line #9090 (got 3 columns instead of 5)\n",
      "    Line #9151 (got 3 columns instead of 5)\n",
      "    Line #9212 (got 3 columns instead of 5)\n",
      "    Line #9273 (got 3 columns instead of 5)\n",
      "    Line #9334 (got 3 columns instead of 5)\n",
      "    Line #9395 (got 3 columns instead of 5)\n",
      "    Line #9456 (got 3 columns instead of 5)\n",
      "    Line #9517 (got 3 columns instead of 5)\n",
      "    Line #9578 (got 3 columns instead of 5)\n",
      "    Line #9639 (got 3 columns instead of 5)\n",
      "    Line #9700 (got 3 columns instead of 5)\n",
      "    Line #9761 (got 3 columns instead of 5)\n",
      "    Line #9822 (got 3 columns instead of 5)\n",
      "    Line #9883 (got 3 columns instead of 5)\n",
      "    Line #9944 (got 3 columns instead of 5)\n",
      "    Line #10005 (got 3 columns instead of 5)\n",
      "    Line #10066 (got 3 columns instead of 5)\n",
      "    Line #10127 (got 3 columns instead of 5)\n",
      "    Line #10188 (got 3 columns instead of 5)\n",
      "    Line #10249 (got 3 columns instead of 5)\n",
      "    Line #10310 (got 3 columns instead of 5)\n",
      "    Line #10371 (got 3 columns instead of 5)\n",
      "    Line #10432 (got 3 columns instead of 5)\n",
      "    Line #10493 (got 3 columns instead of 5)\n",
      "    Line #10554 (got 3 columns instead of 5)\n",
      "    Line #10615 (got 3 columns instead of 5)\n",
      "    Line #10676 (got 3 columns instead of 5)\n",
      "    Line #10737 (got 3 columns instead of 5)\n",
      "    Line #10798 (got 3 columns instead of 5)\n",
      "    Line #10859 (got 3 columns instead of 5)\n",
      "    Line #10920 (got 3 columns instead of 5)\n",
      "    Line #10981 (got 3 columns instead of 5)\n",
      "    Line #11042 (got 3 columns instead of 5)\n",
      "    Line #11103 (got 3 columns instead of 5)\n",
      "    Line #11164 (got 3 columns instead of 5)\n",
      "    Line #11225 (got 3 columns instead of 5)\n",
      "    Line #11286 (got 3 columns instead of 5)\n",
      "    Line #11347 (got 3 columns instead of 5)\n",
      "    Line #11408 (got 3 columns instead of 5)\n",
      "    Line #11469 (got 3 columns instead of 5)\n",
      "    Line #11530 (got 3 columns instead of 5)\n",
      "    Line #11591 (got 3 columns instead of 5)\n",
      "    Line #11652 (got 3 columns instead of 5)\n",
      "    Line #11713 (got 3 columns instead of 5)\n",
      "    Line #11774 (got 3 columns instead of 5)\n",
      "    Line #11835 (got 3 columns instead of 5)\n",
      "    Line #11896 (got 3 columns instead of 5)\n",
      "    Line #11957 (got 3 columns instead of 5)\n",
      "    Line #12018 (got 3 columns instead of 5)\n",
      "    Line #12079 (got 3 columns instead of 5)\n",
      "    Line #12140 (got 3 columns instead of 5)\n",
      "    Line #12201 (got 3 columns instead of 5)\n",
      "    Line #12262 (got 3 columns instead of 5)\n",
      "    Line #12323 (got 3 columns instead of 5)\n",
      "    Line #12384 (got 3 columns instead of 5)\n",
      "  data = np.genfromtxt(\"c0.12.profile\", usecols=[1,2,3,4,5], invalid_raise=False)\n"
     ]
    }
   ],
   "source": [
    "data = np.genfromtxt(\"c0.12.profile\", usecols=[1,2,3,4,5], invalid_raise=False)\n",
    "nbins= 60\n",
    "print(data.max(axis=0))\n",
    "data = np.array(np.split(data,len(data)/nbins))\n",
    "# throw away last point\n",
    "data= data[:,:-1,:]"
   ]
  },
  {
   "cell_type": "code",
   "execution_count": 133,
   "metadata": {},
   "outputs": [
    {
     "data": {
      "text/plain": [
       "(204, 59, 5)"
      ]
     },
     "execution_count": 133,
     "metadata": {},
     "output_type": "execute_result"
    }
   ],
   "source": [
    "data.shape\n",
    "\n"
   ]
  },
  {
   "cell_type": "code",
   "execution_count": 134,
   "metadata": {},
   "outputs": [
    {
     "data": {
      "text/plain": [
       "[<matplotlib.lines.Line2D at 0x1553fff1a460>]"
      ]
     },
     "execution_count": 134,
     "metadata": {},
     "output_type": "execute_result"
    },
    {
     "data": {
      "image/png": "[encoded data removed]",
      "text/plain": [
       "<Figure size 330x220 with 1 Axes>"
      ]
     },
     "metadata": {},
     "output_type": "display_data"
    }
   ],
   "source": [
    "# for i in range(data.shape[0]):\n",
    "chi = data.mean(axis=0)[:,3]\n",
    "plt.plot(data[0,:,0],chi)"
   ]
  },
  {
   "cell_type": "code",
   "execution_count": 130,
   "metadata": {},
   "outputs": [
    {
     "data": {
      "text/plain": [
       "193.27941176470588"
      ]
     },
     "execution_count": 130,
     "metadata": {},
     "output_type": "execute_result"
    }
   ],
   "source": [
    "chi.max()"
   ]
  },
  {
   "cell_type": "code",
   "execution_count": null,
   "metadata": {},
   "outputs": [],
   "source": []
  },
  {
   "cell_type": "code",
   "execution_count": null,
   "metadata": {},
   "outputs": [],
   "source": []
  }
 ],
 "metadata": {
  "kernelspec": {
   "display_name": "base",
   "language": "python",
   "name": "python3"
  },
  "language_info": {
   "codemirror_mode": {
    "name": "ipython",
    "version": 3
   },
   "file_extension": ".py",
   "mimetype": "text/x-python",
   "name": "python",
   "nbconvert_exporter": "python",
   "pygments_lexer": "ipython3",
   "version": "3.9.10"
  }
 },
 "nbformat": 4,
 "nbformat_minor": 2
}
